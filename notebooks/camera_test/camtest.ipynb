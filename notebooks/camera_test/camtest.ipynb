{
 "cells": [
  {
   "cell_type": "code",
   "execution_count": 1,
   "id": "66c508ce-f48a-4775-8a7b-87c565d15fb5",
   "metadata": {},
   "outputs": [],
   "source": [
    "import cv2\n",
    "import torch\n",
    "import torchvision\n",
    "import jetcam"
   ]
  },
  {
   "cell_type": "code",
   "execution_count": 2,
   "id": "708e2221-2682-481a-b939-eb5757f5d9a4",
   "metadata": {},
   "outputs": [],
   "source": [
    "from jetcam.usb_camera import USBCamera"
   ]
  },
  {
   "cell_type": "code",
   "execution_count": 3,
   "id": "8fadf5b2-21db-4d25-874e-c5a49bd563af",
   "metadata": {},
   "outputs": [],
   "source": [
    "camera = USBCamera(capture_device=0)"
   ]
  },
  {
   "cell_type": "code",
   "execution_count": 4,
   "id": "98fb35cd-8a39-4cb1-90d0-c71993d2434e",
   "metadata": {},
   "outputs": [],
   "source": [
    "camera.read()\n",
    "image = camera.value"
   ]
  },
  {
   "cell_type": "code",
   "execution_count": 5,
   "id": "8678b315-3e5c-40d8-bc82-79a282c9ea75",
   "metadata": {},
   "outputs": [
    {
     "data": {
      "application/vnd.jupyter.widget-view+json": {
       "model_id": "b04ae86e77ed4211ae6b5be12c62c39f",
       "version_major": 2,
       "version_minor": 0
      },
      "text/plain": [
       "Image(value=b'\\xff\\xd8\\xff\\xe0\\x00\\x10JFIF\\x00\\x01\\x01\\x00\\x00\\x01\\x00\\x01\\x00\\x00\\xff\\xdb\\x00C\\x00\\x02\\x01\\x0…"
      ]
     },
     "metadata": {},
     "output_type": "display_data"
    }
   ],
   "source": [
    "import ipywidgets\n",
    "from IPython.display import display\n",
    "from jetcam.utils import bgr8_to_jpeg\n",
    "\n",
    "image_widget = ipywidgets.Image(format='jpeg')\n",
    "\n",
    "image_widget.value = bgr8_to_jpeg(image)\n",
    "\n",
    "display(image_widget)"
   ]
  },
  {
   "cell_type": "code",
   "execution_count": 6,
   "id": "9a718db2-e06a-488a-99df-a36a87f68f63",
   "metadata": {},
   "outputs": [],
   "source": [
    "camera.running = True\n",
    "\n",
    "def update_image(change):\n",
    "    image = change['new']\n",
    "    image_widget.value = bgr8_to_jpeg(image)\n",
    "    \n",
    "camera.observe(update_image, names='value')"
   ]
  }
 ],
 "metadata": {
  "kernelspec": {
   "display_name": "Python 3",
   "language": "python",
   "name": "python3"
  },
  "language_info": {
   "codemirror_mode": {
    "name": "ipython",
    "version": 3
   },
   "file_extension": ".py",
   "mimetype": "text/x-python",
   "name": "python",
   "nbconvert_exporter": "python",
   "pygments_lexer": "ipython3",
   "version": "3.6.9"
  }
 },
 "nbformat": 4,
 "nbformat_minor": 5
}
